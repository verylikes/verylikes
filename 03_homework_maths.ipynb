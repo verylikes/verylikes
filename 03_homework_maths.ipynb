{
  "cells": [
    {
      "metadata": {
        "trusted": true
      },
      "cell_type": "code",
      "source": "import numpy as np\nfrom scipy import linalg\nfrom scipy.stats import ortho_group",
      "execution_count": 2,
      "outputs": []
    },
    {
      "metadata": {},
      "cell_type": "markdown",
      "source": "Придумайте матрицы, которые обладают следующими свойствами:"
    },
    {
      "metadata": {},
      "cell_type": "markdown",
      "source": "a) диагональная, ортогональная, но не единичная(!):\n\nb) верхнетреугольная, ортогональная:\n\nc) нижнетреугольная, ортогональная: \n\nd) матрица, у которой определитель = 1, и все элементы не равны 0:\n\ne) матрица (3x3), у которой определитель = 1:"
    },
    {
      "metadata": {},
      "cell_type": "markdown",
      "source": "P.S. Во всех пунктах ответом должна быть ненулевая матрица размерности не менее 2!"
    },
    {
      "metadata": {},
      "cell_type": "markdown",
      "source": "a)"
    },
    {
      "metadata": {
        "trusted": true,
        "scrolled": false
      },
      "cell_type": "code",
      "source": "m = np.array([[-1, 0, 0], [0, -1, 0], [0, 0, -1]])\ndet = np.linalg.det(m)\nprint(m)\nprint(det)",
      "execution_count": 29,
      "outputs": [
        {
          "output_type": "stream",
          "text": "[[-1  0  0]\n [ 0 -1  0]\n [ 0  0 -1]]\n-1.0\n",
          "name": "stdout"
        }
      ]
    },
    {
      "metadata": {},
      "cell_type": "markdown",
      "source": "b)"
    },
    {
      "metadata": {
        "trusted": true
      },
      "cell_type": "code",
      "source": "m = np.triu([[1,1,1],[1,1,1],[1,1,1]])\ndet = np.linalg.det(m)\nprint(m)\nprint(det)",
      "execution_count": 23,
      "outputs": [
        {
          "output_type": "stream",
          "text": "[[1 1 1]\n [0 1 1]\n [0 0 1]]\n1.0\n",
          "name": "stdout"
        }
      ]
    },
    {
      "metadata": {},
      "cell_type": "markdown",
      "source": "c)"
    },
    {
      "metadata": {
        "trusted": true
      },
      "cell_type": "code",
      "source": "m = np.tril([[1,1,1],[1,1,1],[1,1,1]])\ndet = np.linalg.det(m)\nprint(m)\nprint(det)",
      "execution_count": 24,
      "outputs": [
        {
          "output_type": "stream",
          "text": "[[1 0 0]\n [1 1 0]\n [1 1 1]]\n1.0\n",
          "name": "stdout"
        }
      ]
    },
    {
      "metadata": {},
      "cell_type": "markdown",
      "source": "d)"
    },
    {
      "metadata": {
        "trusted": true
      },
      "cell_type": "code",
      "source": "m = np.array([[1, 2], [1, 3]])\ndet = np.linalg.det(m)\nprint(m)\nprint(det)",
      "execution_count": 28,
      "outputs": [
        {
          "output_type": "stream",
          "text": "[[1 2]\n [1 3]]\n1.0\n",
          "name": "stdout"
        }
      ]
    },
    {
      "metadata": {},
      "cell_type": "markdown",
      "source": "e)"
    },
    {
      "metadata": {
        "trusted": true
      },
      "cell_type": "code",
      "source": "m = np.array([[1, 1, 1], [1, 2, 1], [1, 1, 2]])\ndet = np.linalg.det(m)\nprint(m)\nprint(det)",
      "execution_count": 43,
      "outputs": [
        {
          "output_type": "stream",
          "text": "[[1 1 1]\n [1 2 1]\n [1 1 2]]\n1.0\n",
          "name": "stdout"
        }
      ]
    },
    {
      "metadata": {},
      "cell_type": "markdown",
      "source": "Найдите собственные значения и собственные вектора матриц"
    },
    {
      "metadata": {
        "trusted": true
      },
      "cell_type": "code",
      "source": "m = np.array([[2, 2],\n              [1, 3]])\nprint(m)",
      "execution_count": 47,
      "outputs": [
        {
          "output_type": "stream",
          "text": "[[2 2]\n [1 3]]\n",
          "name": "stdout"
        }
      ]
    },
    {
      "metadata": {
        "trusted": true
      },
      "cell_type": "code",
      "source": "w, v = np.linalg.eig(m)",
      "execution_count": 48,
      "outputs": []
    },
    {
      "metadata": {
        "trusted": true
      },
      "cell_type": "code",
      "source": "for i in range(len(w)):\n    print(\"Собственное значение \" + str(w[i]))\n    print(\"соответствующий ему собственный вектор \" + str(v[:,i]))",
      "execution_count": 49,
      "outputs": [
        {
          "output_type": "stream",
          "text": "Собственное значение 1.0\nсоответствующий ему собственный вектор [-0.89442719  0.4472136 ]\nСобственное значение 4.0\nсоответствующий ему собственный вектор [-0.70710678 -0.70710678]\n",
          "name": "stdout"
        }
      ]
    }
  ],
  "metadata": {
    "kernelspec": {
      "name": "python3",
      "display_name": "Python 3",
      "language": "python"
    },
    "language_info": {
      "mimetype": "text/x-python",
      "nbconvert_exporter": "python",
      "name": "python",
      "file_extension": ".py",
      "version": "3.5.4",
      "pygments_lexer": "ipython3",
      "codemirror_mode": {
        "version": 3,
        "name": "ipython"
      }
    }
  },
  "nbformat": 4,
  "nbformat_minor": 2
}